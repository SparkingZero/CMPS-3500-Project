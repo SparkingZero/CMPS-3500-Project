{
 "cells": [
  {
   "cell_type": "code",
   "execution_count": 1,
   "id": "ae57f259-d2f9-4271-b973-2a9e874fc107",
   "metadata": {},
   "outputs": [],
   "source": [
    "# General Packages\n",
    "import math\n",
    "import os\n",
    "from pathlib import Path\n",
    "\n",
    "# data handling libraries\n",
    "import pandas as pd\n",
    "import numpy as np\n",
    "from tabulate import tabulate\n",
    "\n",
    "# visualization libraries\n",
    "from matplotlib import pyplot as plt\n",
    "import seaborn as sns\n",
    "\n",
    "# extra libraries\n",
    "import warnings\n",
    "warnings.filterwarnings('ignore')\n",
    "\n",
    "# Packages to support NN\n",
    "\n",
    "# sklearn\n",
    "from sklearn.metrics import mean_squared_error, mean_absolute_error\n",
    "from sklearn.metrics import accuracy_score, precision_score, recall_score, f1_score, confusion_matrix\n",
    "from sklearn.ensemble import RandomForestRegressor\n",
    "from sklearn.ensemble import GradientBoostingRegressor\n",
    "from sklearn.model_selection import train_test_split, GridSearchCV\n",
    "from sklearn.preprocessing import OneHotEncoder\n",
    "from sklearn.preprocessing import LabelEncoder\n",
    "from sklearn.preprocessing import MinMaxScaler\n",
    "from sklearn.model_selection import KFold\n",
    "from sklearn.model_selection import cross_val_score\n",
    "\n",
    "#tensorflow\n",
    "import tensorflow as tf\n",
    "from tensorflow import keras\n",
    "\n",
    "# Keras\n",
    "from keras.utils import to_categorical\n",
    "from keras.models import Sequential\n",
    "from keras.layers import Dense\n",
    "\n",
    "from rich.progress import Progress\n",
    "import time"
   ]
  },
  {
   "cell_type": "code",
   "execution_count": 2,
   "id": "99e803ab-cd0c-4ddd-aa0f-116707a4051c",
   "metadata": {},
   "outputs": [],
   "source": [
    "# Function to evaluate predicted vs test data categorical variables\n",
    "def plot_prediction_vs_test_categorical(y_test, y_pred, class_labels):\n",
    "    # Plots the prediction vs test data for categorical variables.\n",
    "\n",
    "    # Args:\n",
    "    #     y_test (array-like): True labels of the test data.\n",
    "    #     y_pred (array-like): Predicted labels of the test data.\n",
    "    #     class_labels (list): List of class labels.\n",
    "\n",
    "    # Create a confusion matrix\n",
    "    cm = confusion_matrix(y_test, y_pred)\n",
    "\n",
    "    # Plot the confusion matrix\n",
    "    plt.figure(figsize=(8, 6))\n",
    "    sns.heatmap(cm, annot=True, fmt=\"d\", cmap=\"Blues\", xticklabels=class_labels, yticklabels=class_labels)\n",
    "    plt.xlabel(\"Predicted\")\n",
    "    plt.ylabel(\"Actual\")\n",
    "    plt.title(\"Confusion Matrix\")\n",
    "    plt.show()\n",
    "\n",
    "# Calculates performance of multivariate classification model\n",
    "def calculate_performance_multiclass(y_true, y_pred):\n",
    "    # Calculates various performance metrics for multiclass classification.\n",
    "\n",
    "    # Args:\n",
    "    #     y_true: The true labels.\n",
    "    #     y_pred: The predicted labels.\n",
    "\n",
    "    # Returns:\n",
    "    #     A dictionary containing the calculated metrics.\n",
    "\n",
    "    metrics = {}\n",
    "\n",
    "    # Accuracy\n",
    "    metrics['accuracy'] = accuracy_score(y_true, y_pred)\n",
    "\n",
    "    # Precision, Recall, and F1-score (macro-averaged)\n",
    "    metrics['precision'] = precision_score(y_true, y_pred, average='macro')\n",
    "    metrics['recall'] = recall_score(y_true, y_pred, average='macro')\n",
    "    metrics['f1_score'] = f1_score(y_true, y_pred, average='macro')\n",
    "\n",
    "    # Confusion Matrix\n",
    "    metrics['confusion_matrix'] = confusion_matrix(y_true, y_pred)\n",
    "\n",
    "    return metrics"
   ]
  },
  {
   "cell_type": "code",
   "execution_count": 3,
   "id": "280ea9d4-7ece-45c4-9e65-19bca33cdb5d",
   "metadata": {},
   "outputs": [
    {
     "name": "stdout",
     "output_type": "stream",
     "text": [
      "189138\n",
      "17474\n",
      "28261\n",
      "569\n",
      "752\n",
      "<class 'pandas.core.frame.DataFrame'>\n",
      "RangeIndex: 236194 entries, 0 to 236193\n",
      "Data columns (total 13 columns):\n",
      " #   Column           Non-Null Count   Dtype  \n",
      "---  ------           --------------   -----  \n",
      " 0   DR_NO_INDEX      236194 non-null  int64  \n",
      " 1   AREA             236194 non-null  int64  \n",
      " 2   Rpt Dist No      236194 non-null  int64  \n",
      " 3   Crm Cd           236194 non-null  int64  \n",
      " 4   Vict Age         236194 non-null  int64  \n",
      " 5   Vict Sex         236194 non-null  object \n",
      " 6   Vict Descent     236194 non-null  object \n",
      " 7   Premis Cd        236194 non-null  float64\n",
      " 8   Weapon Used Cd   236194 non-null  float64\n",
      " 9   Status           236194 non-null  object \n",
      " 10  Target           236194 non-null  object \n",
      " 11  MONTH OCC        236194 non-null  int64  \n",
      " 12  TIME PERIOD OCC  236194 non-null  object \n",
      "dtypes: float64(2), int64(6), object(5)\n",
      "memory usage: 23.4+ MB\n",
      "None\n"
     ]
    }
   ],
   "source": [
    "# load training data from current dir\n",
    "current_dir = os.getcwd()\n",
    "\n",
    "file_path = os.path.join(current_dir, \"clean_training_andy.csv\")\n",
    "\n",
    "df = pd.read_csv(file_path)\n",
    "\n",
    "print((df.Status == \"IC\").sum())\n",
    "print((df.Status == \"AA\").sum())\n",
    "print((df.Status == \"AO\").sum())\n",
    "print((df.Status == \"JO\").sum())\n",
    "print((df.Status == \"JA\").sum())\n",
    "\n",
    "\n",
    "print(df.info())"
   ]
  },
  {
   "cell_type": "code",
   "execution_count": 4,
   "id": "740df738-8770-44c7-a13a-3695a1e277c9",
   "metadata": {},
   "outputs": [
    {
     "name": "stdout",
     "output_type": "stream",
     "text": [
      "<class 'pandas.core.frame.DataFrame'>\n",
      "RangeIndex: 43576 entries, 0 to 43575\n",
      "Data columns (total 13 columns):\n",
      " #   Column           Non-Null Count  Dtype  \n",
      "---  ------           --------------  -----  \n",
      " 0   DR_NO_INDEX      43576 non-null  int64  \n",
      " 1   AREA             43576 non-null  int64  \n",
      " 2   Rpt Dist No      43576 non-null  int64  \n",
      " 3   Crm Cd           43576 non-null  int64  \n",
      " 4   Vict Age         43576 non-null  int64  \n",
      " 5   Vict Sex         43576 non-null  object \n",
      " 6   Vict Descent     43576 non-null  object \n",
      " 7   Premis Cd        43576 non-null  float64\n",
      " 8   Weapon Used Cd   43576 non-null  float64\n",
      " 9   Status           43576 non-null  object \n",
      " 10  Target           43576 non-null  object \n",
      " 11  MONTH OCC        43576 non-null  int64  \n",
      " 12  TIME PERIOD OCC  43576 non-null  object \n",
      "dtypes: float64(2), int64(6), object(5)\n",
      "memory usage: 4.3+ MB\n",
      "None\n"
     ]
    }
   ],
   "source": [
    "# load testing data from current dir\n",
    "current_dir = os.getcwd()\n",
    "\n",
    "file_path = os.path.join(current_dir, \"clean_testing_andy.csv\")\n",
    "\n",
    "df2 = pd.read_csv(file_path)\n",
    "\n",
    "\n",
    "print(df2.info())"
   ]
  },
  {
   "cell_type": "code",
   "execution_count": 5,
   "id": "5ea662aa-91b0-4b14-9032-d87c38e618e3",
   "metadata": {},
   "outputs": [],
   "source": [
    "# set variables for model\n",
    "target = ['Status']\n",
    "numerical = ['AREA', 'Rpt Dist No', 'Crm Cd', 'Vict Age', 'Premis Cd', 'Weapon Used Cd', 'MONTH OCC']\n",
    "# uses too much memory when Mocodes is used but would like to include it\n",
    "categorical = ['Target', 'Vict Sex', 'Vict Descent', 'TIME PERIOD OCC']"
   ]
  },
  {
   "cell_type": "code",
   "execution_count": 6,
   "id": "ddffe3e9-63bd-40b2-8782-778b37870976",
   "metadata": {},
   "outputs": [],
   "source": [
    "# set up encoder\n",
    "encoder = OneHotEncoder(handle_unknown='ignore')\n",
    "\n",
    "le = LabelEncoder()"
   ]
  },
  {
   "cell_type": "code",
   "execution_count": 7,
   "id": "f8caa7c1-5c85-4ee7-8993-b69e0262a042",
   "metadata": {},
   "outputs": [
    {
     "name": "stdout",
     "output_type": "stream",
     "text": [
      "<class 'pandas.core.frame.DataFrame'>\n",
      "RangeIndex: 236194 entries, 0 to 236193\n",
      "Data columns (total 40 columns):\n",
      " #   Column              Non-Null Count   Dtype  \n",
      "---  ------              --------------   -----  \n",
      " 0   DR_NO_INDEX         236194 non-null  int64  \n",
      " 1   AREA                236194 non-null  int64  \n",
      " 2   Rpt Dist No         236194 non-null  int64  \n",
      " 3   Crm Cd              236194 non-null  int64  \n",
      " 4   Vict Age            236194 non-null  int64  \n",
      " 5   Vict Sex            236194 non-null  object \n",
      " 6   Vict Descent        236194 non-null  object \n",
      " 7   Premis Cd           236194 non-null  float64\n",
      " 8   Weapon Used Cd      236194 non-null  float64\n",
      " 9   Status              236194 non-null  object \n",
      " 10  Target              236194 non-null  object \n",
      " 11  MONTH OCC           236194 non-null  int64  \n",
      " 12  TIME PERIOD OCC     236194 non-null  object \n",
      " 13  Target_Arrest       236194 non-null  float64\n",
      " 14  Target_No Arrest    236194 non-null  float64\n",
      " 15  Vict Sex_F          236194 non-null  float64\n",
      " 16  Vict Sex_M          236194 non-null  float64\n",
      " 17  Vict Descent_A      236194 non-null  float64\n",
      " 18  Vict Descent_B      236194 non-null  float64\n",
      " 19  Vict Descent_C      236194 non-null  float64\n",
      " 20  Vict Descent_D      236194 non-null  float64\n",
      " 21  Vict Descent_F      236194 non-null  float64\n",
      " 22  Vict Descent_G      236194 non-null  float64\n",
      " 23  Vict Descent_H      236194 non-null  float64\n",
      " 24  Vict Descent_I      236194 non-null  float64\n",
      " 25  Vict Descent_J      236194 non-null  float64\n",
      " 26  Vict Descent_K      236194 non-null  float64\n",
      " 27  Vict Descent_L      236194 non-null  float64\n",
      " 28  Vict Descent_O      236194 non-null  float64\n",
      " 29  Vict Descent_P      236194 non-null  float64\n",
      " 30  Vict Descent_S      236194 non-null  float64\n",
      " 31  Vict Descent_U      236194 non-null  float64\n",
      " 32  Vict Descent_V      236194 non-null  float64\n",
      " 33  Vict Descent_W      236194 non-null  float64\n",
      " 34  Vict Descent_X      236194 non-null  float64\n",
      " 35  Vict Descent_Z      236194 non-null  float64\n",
      " 36  TIME PERIOD OCC_AN  236194 non-null  float64\n",
      " 37  TIME PERIOD OCC_EM  236194 non-null  float64\n",
      " 38  TIME PERIOD OCC_M   236194 non-null  float64\n",
      " 39  TIME PERIOD OCC_N   236194 non-null  float64\n",
      "dtypes: float64(29), int64(6), object(5)\n",
      "memory usage: 72.1+ MB\n",
      "None\n"
     ]
    }
   ],
   "source": [
    "# encoding categorical values for training\n",
    "encoded_features = encoder.fit_transform(df[categorical])\n",
    "\n",
    "# convert encoded data to a dataframe\n",
    "encoded_df = pd.DataFrame(encoded_features.toarray(), columns=encoder.get_feature_names_out(categorical))\n",
    "\n",
    "# combine dataframes\n",
    "df = pd.concat([df, encoded_df], axis=1)\n",
    "\n",
    "print(df.info())"
   ]
  },
  {
   "cell_type": "code",
   "execution_count": 8,
   "id": "270ab8f7-3df4-427e-993c-ecff2a091ae7",
   "metadata": {},
   "outputs": [
    {
     "name": "stdout",
     "output_type": "stream",
     "text": [
      "<class 'pandas.core.frame.DataFrame'>\n",
      "RangeIndex: 43576 entries, 0 to 43575\n",
      "Data columns (total 40 columns):\n",
      " #   Column              Non-Null Count  Dtype  \n",
      "---  ------              --------------  -----  \n",
      " 0   DR_NO_INDEX         43576 non-null  int64  \n",
      " 1   AREA                43576 non-null  int64  \n",
      " 2   Rpt Dist No         43576 non-null  int64  \n",
      " 3   Crm Cd              43576 non-null  int64  \n",
      " 4   Vict Age            43576 non-null  int64  \n",
      " 5   Vict Sex            43576 non-null  object \n",
      " 6   Vict Descent        43576 non-null  object \n",
      " 7   Premis Cd           43576 non-null  float64\n",
      " 8   Weapon Used Cd      43576 non-null  float64\n",
      " 9   Status              43576 non-null  object \n",
      " 10  Target              43576 non-null  object \n",
      " 11  MONTH OCC           43576 non-null  int64  \n",
      " 12  TIME PERIOD OCC     43576 non-null  object \n",
      " 13  Target_Arrest       43576 non-null  float64\n",
      " 14  Target_No Arrest    43576 non-null  float64\n",
      " 15  Vict Sex_F          43576 non-null  float64\n",
      " 16  Vict Sex_M          43576 non-null  float64\n",
      " 17  Vict Descent_A      43576 non-null  float64\n",
      " 18  Vict Descent_B      43576 non-null  float64\n",
      " 19  Vict Descent_C      43576 non-null  float64\n",
      " 20  Vict Descent_D      43576 non-null  float64\n",
      " 21  Vict Descent_F      43576 non-null  float64\n",
      " 22  Vict Descent_G      43576 non-null  float64\n",
      " 23  Vict Descent_H      43576 non-null  float64\n",
      " 24  Vict Descent_I      43576 non-null  float64\n",
      " 25  Vict Descent_J      43576 non-null  float64\n",
      " 26  Vict Descent_K      43576 non-null  float64\n",
      " 27  Vict Descent_L      43576 non-null  float64\n",
      " 28  Vict Descent_O      43576 non-null  float64\n",
      " 29  Vict Descent_P      43576 non-null  float64\n",
      " 30  Vict Descent_S      43576 non-null  float64\n",
      " 31  Vict Descent_U      43576 non-null  float64\n",
      " 32  Vict Descent_V      43576 non-null  float64\n",
      " 33  Vict Descent_W      43576 non-null  float64\n",
      " 34  Vict Descent_X      43576 non-null  float64\n",
      " 35  Vict Descent_Z      43576 non-null  float64\n",
      " 36  TIME PERIOD OCC_AN  43576 non-null  float64\n",
      " 37  TIME PERIOD OCC_EM  43576 non-null  float64\n",
      " 38  TIME PERIOD OCC_M   43576 non-null  float64\n",
      " 39  TIME PERIOD OCC_N   43576 non-null  float64\n",
      "dtypes: float64(29), int64(6), object(5)\n",
      "memory usage: 13.3+ MB\n",
      "None\n"
     ]
    }
   ],
   "source": [
    "# encoding categorical values for testing\n",
    "encoded_features2 = encoder.fit_transform(df2[categorical])\n",
    "\n",
    "# convert encoded data to a dataframe\n",
    "encoded_df2 = pd.DataFrame(encoded_features2.toarray(), columns=encoder.get_feature_names_out(categorical))\n",
    "\n",
    "# combine dataframes\n",
    "df2 = pd.concat([df2, encoded_df2], axis=1)\n",
    "\n",
    "print(df2.info())"
   ]
  },
  {
   "cell_type": "code",
   "execution_count": 9,
   "id": "d6ed3407-ae3a-499a-8349-1beddb89f311",
   "metadata": {},
   "outputs": [
    {
     "name": "stdout",
     "output_type": "stream",
     "text": [
      "<class 'pandas.core.frame.DataFrame'>\n",
      "RangeIndex: 236194 entries, 0 to 236193\n",
      "Data columns (total 45 columns):\n",
      " #   Column              Non-Null Count   Dtype  \n",
      "---  ------              --------------   -----  \n",
      " 0   DR_NO_INDEX         236194 non-null  int64  \n",
      " 1   AREA                236194 non-null  int64  \n",
      " 2   Rpt Dist No         236194 non-null  int64  \n",
      " 3   Crm Cd              236194 non-null  int64  \n",
      " 4   Vict Age            236194 non-null  int64  \n",
      " 5   Vict Sex            236194 non-null  object \n",
      " 6   Vict Descent        236194 non-null  object \n",
      " 7   Premis Cd           236194 non-null  float64\n",
      " 8   Weapon Used Cd      236194 non-null  float64\n",
      " 9   Status              236194 non-null  object \n",
      " 10  Target              236194 non-null  object \n",
      " 11  MONTH OCC           236194 non-null  int64  \n",
      " 12  TIME PERIOD OCC     236194 non-null  object \n",
      " 13  Target_Arrest       236194 non-null  float64\n",
      " 14  Target_No Arrest    236194 non-null  float64\n",
      " 15  Vict Sex_F          236194 non-null  float64\n",
      " 16  Vict Sex_M          236194 non-null  float64\n",
      " 17  Vict Descent_A      236194 non-null  float64\n",
      " 18  Vict Descent_B      236194 non-null  float64\n",
      " 19  Vict Descent_C      236194 non-null  float64\n",
      " 20  Vict Descent_D      236194 non-null  float64\n",
      " 21  Vict Descent_F      236194 non-null  float64\n",
      " 22  Vict Descent_G      236194 non-null  float64\n",
      " 23  Vict Descent_H      236194 non-null  float64\n",
      " 24  Vict Descent_I      236194 non-null  float64\n",
      " 25  Vict Descent_J      236194 non-null  float64\n",
      " 26  Vict Descent_K      236194 non-null  float64\n",
      " 27  Vict Descent_L      236194 non-null  float64\n",
      " 28  Vict Descent_O      236194 non-null  float64\n",
      " 29  Vict Descent_P      236194 non-null  float64\n",
      " 30  Vict Descent_S      236194 non-null  float64\n",
      " 31  Vict Descent_U      236194 non-null  float64\n",
      " 32  Vict Descent_V      236194 non-null  float64\n",
      " 33  Vict Descent_W      236194 non-null  float64\n",
      " 34  Vict Descent_X      236194 non-null  float64\n",
      " 35  Vict Descent_Z      236194 non-null  float64\n",
      " 36  TIME PERIOD OCC_AN  236194 non-null  float64\n",
      " 37  TIME PERIOD OCC_EM  236194 non-null  float64\n",
      " 38  TIME PERIOD OCC_M   236194 non-null  float64\n",
      " 39  TIME PERIOD OCC_N   236194 non-null  float64\n",
      " 40  Status_AA           236194 non-null  float64\n",
      " 41  Status_AO           236194 non-null  float64\n",
      " 42  Status_IC           236194 non-null  float64\n",
      " 43  Status_JA           236194 non-null  float64\n",
      " 44  Status_JO           236194 non-null  float64\n",
      "dtypes: float64(34), int64(6), object(5)\n",
      "memory usage: 81.1+ MB\n",
      "None\n"
     ]
    }
   ],
   "source": [
    "#handle the target for training \n",
    "encoded_target = encoder.fit_transform(df[target])\n",
    "\n",
    "encoded_target_df = pd.DataFrame(encoded_target.toarray(), columns=encoder.get_feature_names_out(target))\n",
    "\n",
    "df = pd.concat([df, encoded_target_df], axis=1)\n",
    "\n",
    "print(df.info())"
   ]
  },
  {
   "cell_type": "code",
   "execution_count": 10,
   "id": "0f680658-66ca-442f-8e12-51daafeaf50c",
   "metadata": {},
   "outputs": [
    {
     "name": "stdout",
     "output_type": "stream",
     "text": [
      "<class 'pandas.core.frame.DataFrame'>\n",
      "RangeIndex: 43576 entries, 0 to 43575\n",
      "Data columns (total 45 columns):\n",
      " #   Column              Non-Null Count  Dtype  \n",
      "---  ------              --------------  -----  \n",
      " 0   DR_NO_INDEX         43576 non-null  int64  \n",
      " 1   AREA                43576 non-null  int64  \n",
      " 2   Rpt Dist No         43576 non-null  int64  \n",
      " 3   Crm Cd              43576 non-null  int64  \n",
      " 4   Vict Age            43576 non-null  int64  \n",
      " 5   Vict Sex            43576 non-null  object \n",
      " 6   Vict Descent        43576 non-null  object \n",
      " 7   Premis Cd           43576 non-null  float64\n",
      " 8   Weapon Used Cd      43576 non-null  float64\n",
      " 9   Status              43576 non-null  object \n",
      " 10  Target              43576 non-null  object \n",
      " 11  MONTH OCC           43576 non-null  int64  \n",
      " 12  TIME PERIOD OCC     43576 non-null  object \n",
      " 13  Target_Arrest       43576 non-null  float64\n",
      " 14  Target_No Arrest    43576 non-null  float64\n",
      " 15  Vict Sex_F          43576 non-null  float64\n",
      " 16  Vict Sex_M          43576 non-null  float64\n",
      " 17  Vict Descent_A      43576 non-null  float64\n",
      " 18  Vict Descent_B      43576 non-null  float64\n",
      " 19  Vict Descent_C      43576 non-null  float64\n",
      " 20  Vict Descent_D      43576 non-null  float64\n",
      " 21  Vict Descent_F      43576 non-null  float64\n",
      " 22  Vict Descent_G      43576 non-null  float64\n",
      " 23  Vict Descent_H      43576 non-null  float64\n",
      " 24  Vict Descent_I      43576 non-null  float64\n",
      " 25  Vict Descent_J      43576 non-null  float64\n",
      " 26  Vict Descent_K      43576 non-null  float64\n",
      " 27  Vict Descent_L      43576 non-null  float64\n",
      " 28  Vict Descent_O      43576 non-null  float64\n",
      " 29  Vict Descent_P      43576 non-null  float64\n",
      " 30  Vict Descent_S      43576 non-null  float64\n",
      " 31  Vict Descent_U      43576 non-null  float64\n",
      " 32  Vict Descent_V      43576 non-null  float64\n",
      " 33  Vict Descent_W      43576 non-null  float64\n",
      " 34  Vict Descent_X      43576 non-null  float64\n",
      " 35  Vict Descent_Z      43576 non-null  float64\n",
      " 36  TIME PERIOD OCC_AN  43576 non-null  float64\n",
      " 37  TIME PERIOD OCC_EM  43576 non-null  float64\n",
      " 38  TIME PERIOD OCC_M   43576 non-null  float64\n",
      " 39  TIME PERIOD OCC_N   43576 non-null  float64\n",
      " 40  Status_AA           43576 non-null  float64\n",
      " 41  Status_AO           43576 non-null  float64\n",
      " 42  Status_IC           43576 non-null  float64\n",
      " 43  Status_JA           43576 non-null  float64\n",
      " 44  Status_JO           43576 non-null  float64\n",
      "dtypes: float64(34), int64(6), object(5)\n",
      "memory usage: 15.0+ MB\n",
      "None\n"
     ]
    }
   ],
   "source": [
    "#handle the target for testing\n",
    "\n",
    "encoded_target2 = encoder.fit_transform(df2[target])\n",
    "\n",
    "encoded_target_df2 = pd.DataFrame(encoded_target2.toarray(), columns=encoder.get_feature_names_out(target))\n",
    "\n",
    "df2 = pd.concat([df2, encoded_target_df2], axis=1)\n",
    "\n",
    "print(df2.info())"
   ]
  },
  {
   "cell_type": "code",
   "execution_count": 11,
   "id": "8b712597-21e9-4784-a90a-0815605ee8c7",
   "metadata": {},
   "outputs": [
    {
     "name": "stdout",
     "output_type": "stream",
     "text": [
      "38\n"
     ]
    }
   ],
   "source": [
    "# set up dataframe for model\n",
    "\n",
    "features_in_model = [\"AREA\", \"Crm Cd\", \"Vict Age\", \"Vict Sex\", \"Vict Descent\", \n",
    "                     \"Premis Cd\", \"Weapon Used Cd\", \"Status\", \"Target\", \"Target_Arrest\", \"Target_No Arrest\",\n",
    "                     \"MONTH OCC\", \"TIME PERIOD OCC\",\n",
    "                     \"Vict Sex_F\", \"Vict Sex_M\", \"Vict Descent_A\", \"Vict Descent_B\", \"Vict Descent_C\", \n",
    "                     \"Vict Descent_D\", \"Vict Descent_F\", \"Vict Descent_G\", \"Vict Descent_H\", \"Vict Descent_I\", \n",
    "                     \"Vict Descent_J\", \"Vict Descent_K\", \"Vict Descent_L\", \"Vict Descent_O\", \"Vict Descent_P\", \n",
    "                     \"Vict Descent_S\", \"Vict Descent_U\", \"Vict Descent_V\", \"Vict Descent_W\", \"Vict Descent_X\", \n",
    "                     \"Vict Descent_Z\", \"TIME PERIOD OCC_AN\", \"TIME PERIOD OCC_EM\", \"TIME PERIOD OCC_M\", \n",
    "                     \"TIME PERIOD OCC_N\"]\n",
    "\n",
    "target_features = [\"Status_AA\", \"Status_AO\", \"Status_IC\", \"Status_JA\", \"Status_JO\"]\n",
    "\n",
    "# Getting the size of input size\n",
    "print(len(features_in_model))\n"
   ]
  },
  {
   "cell_type": "code",
   "execution_count": 12,
   "id": "ef365650-495c-489e-936a-72913df0f71f",
   "metadata": {},
   "outputs": [
    {
     "name": "stdout",
     "output_type": "stream",
     "text": [
      "(236194, 27)\n",
      "(236194, 5)\n"
     ]
    }
   ],
   "source": [
    "# data sets for the training\n",
    "X = encoded_features.toarray()\n",
    "Y = encoded_target.toarray()\n",
    "\n",
    "print(X.shape)\n",
    "print(Y.shape)"
   ]
  },
  {
   "cell_type": "code",
   "execution_count": 13,
   "id": "5ae9855b-1afe-4f14-98fe-dd73d438ac19",
   "metadata": {},
   "outputs": [
    {
     "name": "stdout",
     "output_type": "stream",
     "text": [
      "(43576, 27)\n",
      "(43576, 5)\n"
     ]
    }
   ],
   "source": [
    "# data sets for the testing\n",
    "X_test = encoded_features2.toarray()\n",
    "Y_test = encoded_target2.toarray()\n",
    "\n",
    "print(X_test.shape)\n",
    "print(Y_test.shape)"
   ]
  },
  {
   "cell_type": "code",
   "execution_count": 14,
   "id": "87b3f09a-a06d-4035-9e3b-734498180a8a",
   "metadata": {},
   "outputs": [
    {
     "data": {
      "text/html": [
       "<pre style=\"white-space:pre;overflow-x:auto;line-height:normal;font-family:Menlo,'DejaVu Sans Mono',consolas,'Courier New',monospace\"><span style=\"font-weight: bold\">Model: \"sequential\"</span>\n",
       "</pre>\n"
      ],
      "text/plain": [
       "\u001b[1mModel: \"sequential\"\u001b[0m\n"
      ]
     },
     "metadata": {},
     "output_type": "display_data"
    },
    {
     "data": {
      "text/html": [
       "<pre style=\"white-space:pre;overflow-x:auto;line-height:normal;font-family:Menlo,'DejaVu Sans Mono',consolas,'Courier New',monospace\">┏━━━━━━━━━━━━━━━━━━━━━━━━━━━━━━━━━━━━━━┳━━━━━━━━━━━━━━━━━━━━━━━━━━━━━┳━━━━━━━━━━━━━━━━━┓\n",
       "┃<span style=\"font-weight: bold\"> Layer (type)                         </span>┃<span style=\"font-weight: bold\"> Output Shape                </span>┃<span style=\"font-weight: bold\">         Param # </span>┃\n",
       "┡━━━━━━━━━━━━━━━━━━━━━━━━━━━━━━━━━━━━━━╇━━━━━━━━━━━━━━━━━━━━━━━━━━━━━╇━━━━━━━━━━━━━━━━━┩\n",
       "│ dense (<span style=\"color: #0087ff; text-decoration-color: #0087ff\">Dense</span>)                        │ (<span style=\"color: #00d7ff; text-decoration-color: #00d7ff\">None</span>, <span style=\"color: #00af00; text-decoration-color: #00af00\">38</span>)                  │           <span style=\"color: #00af00; text-decoration-color: #00af00\">1,064</span> │\n",
       "├──────────────────────────────────────┼─────────────────────────────┼─────────────────┤\n",
       "│ dense_1 (<span style=\"color: #0087ff; text-decoration-color: #0087ff\">Dense</span>)                      │ (<span style=\"color: #00d7ff; text-decoration-color: #00d7ff\">None</span>, <span style=\"color: #00af00; text-decoration-color: #00af00\">48</span>)                  │           <span style=\"color: #00af00; text-decoration-color: #00af00\">1,872</span> │\n",
       "├──────────────────────────────────────┼─────────────────────────────┼─────────────────┤\n",
       "│ dense_2 (<span style=\"color: #0087ff; text-decoration-color: #0087ff\">Dense</span>)                      │ (<span style=\"color: #00d7ff; text-decoration-color: #00d7ff\">None</span>, <span style=\"color: #00af00; text-decoration-color: #00af00\">96</span>)                  │           <span style=\"color: #00af00; text-decoration-color: #00af00\">4,704</span> │\n",
       "├──────────────────────────────────────┼─────────────────────────────┼─────────────────┤\n",
       "│ dense_3 (<span style=\"color: #0087ff; text-decoration-color: #0087ff\">Dense</span>)                      │ (<span style=\"color: #00d7ff; text-decoration-color: #00d7ff\">None</span>, <span style=\"color: #00af00; text-decoration-color: #00af00\">96</span>)                  │           <span style=\"color: #00af00; text-decoration-color: #00af00\">9,312</span> │\n",
       "├──────────────────────────────────────┼─────────────────────────────┼─────────────────┤\n",
       "│ dense_4 (<span style=\"color: #0087ff; text-decoration-color: #0087ff\">Dense</span>)                      │ (<span style=\"color: #00d7ff; text-decoration-color: #00d7ff\">None</span>, <span style=\"color: #00af00; text-decoration-color: #00af00\">48</span>)                  │           <span style=\"color: #00af00; text-decoration-color: #00af00\">4,656</span> │\n",
       "├──────────────────────────────────────┼─────────────────────────────┼─────────────────┤\n",
       "│ dense_5 (<span style=\"color: #0087ff; text-decoration-color: #0087ff\">Dense</span>)                      │ (<span style=\"color: #00d7ff; text-decoration-color: #00d7ff\">None</span>, <span style=\"color: #00af00; text-decoration-color: #00af00\">5</span>)                   │             <span style=\"color: #00af00; text-decoration-color: #00af00\">245</span> │\n",
       "└──────────────────────────────────────┴─────────────────────────────┴─────────────────┘\n",
       "</pre>\n"
      ],
      "text/plain": [
       "┏━━━━━━━━━━━━━━━━━━━━━━━━━━━━━━━━━━━━━━┳━━━━━━━━━━━━━━━━━━━━━━━━━━━━━┳━━━━━━━━━━━━━━━━━┓\n",
       "┃\u001b[1m \u001b[0m\u001b[1mLayer (type)                        \u001b[0m\u001b[1m \u001b[0m┃\u001b[1m \u001b[0m\u001b[1mOutput Shape               \u001b[0m\u001b[1m \u001b[0m┃\u001b[1m \u001b[0m\u001b[1m        Param #\u001b[0m\u001b[1m \u001b[0m┃\n",
       "┡━━━━━━━━━━━━━━━━━━━━━━━━━━━━━━━━━━━━━━╇━━━━━━━━━━━━━━━━━━━━━━━━━━━━━╇━━━━━━━━━━━━━━━━━┩\n",
       "│ dense (\u001b[38;5;33mDense\u001b[0m)                        │ (\u001b[38;5;45mNone\u001b[0m, \u001b[38;5;34m38\u001b[0m)                  │           \u001b[38;5;34m1,064\u001b[0m │\n",
       "├──────────────────────────────────────┼─────────────────────────────┼─────────────────┤\n",
       "│ dense_1 (\u001b[38;5;33mDense\u001b[0m)                      │ (\u001b[38;5;45mNone\u001b[0m, \u001b[38;5;34m48\u001b[0m)                  │           \u001b[38;5;34m1,872\u001b[0m │\n",
       "├──────────────────────────────────────┼─────────────────────────────┼─────────────────┤\n",
       "│ dense_2 (\u001b[38;5;33mDense\u001b[0m)                      │ (\u001b[38;5;45mNone\u001b[0m, \u001b[38;5;34m96\u001b[0m)                  │           \u001b[38;5;34m4,704\u001b[0m │\n",
       "├──────────────────────────────────────┼─────────────────────────────┼─────────────────┤\n",
       "│ dense_3 (\u001b[38;5;33mDense\u001b[0m)                      │ (\u001b[38;5;45mNone\u001b[0m, \u001b[38;5;34m96\u001b[0m)                  │           \u001b[38;5;34m9,312\u001b[0m │\n",
       "├──────────────────────────────────────┼─────────────────────────────┼─────────────────┤\n",
       "│ dense_4 (\u001b[38;5;33mDense\u001b[0m)                      │ (\u001b[38;5;45mNone\u001b[0m, \u001b[38;5;34m48\u001b[0m)                  │           \u001b[38;5;34m4,656\u001b[0m │\n",
       "├──────────────────────────────────────┼─────────────────────────────┼─────────────────┤\n",
       "│ dense_5 (\u001b[38;5;33mDense\u001b[0m)                      │ (\u001b[38;5;45mNone\u001b[0m, \u001b[38;5;34m5\u001b[0m)                   │             \u001b[38;5;34m245\u001b[0m │\n",
       "└──────────────────────────────────────┴─────────────────────────────┴─────────────────┘\n"
      ]
     },
     "metadata": {},
     "output_type": "display_data"
    },
    {
     "data": {
      "text/html": [
       "<pre style=\"white-space:pre;overflow-x:auto;line-height:normal;font-family:Menlo,'DejaVu Sans Mono',consolas,'Courier New',monospace\"><span style=\"font-weight: bold\"> Total params: </span><span style=\"color: #00af00; text-decoration-color: #00af00\">21,853</span> (85.36 KB)\n",
       "</pre>\n"
      ],
      "text/plain": [
       "\u001b[1m Total params: \u001b[0m\u001b[38;5;34m21,853\u001b[0m (85.36 KB)\n"
      ]
     },
     "metadata": {},
     "output_type": "display_data"
    },
    {
     "data": {
      "text/html": [
       "<pre style=\"white-space:pre;overflow-x:auto;line-height:normal;font-family:Menlo,'DejaVu Sans Mono',consolas,'Courier New',monospace\"><span style=\"font-weight: bold\"> Trainable params: </span><span style=\"color: #00af00; text-decoration-color: #00af00\">21,853</span> (85.36 KB)\n",
       "</pre>\n"
      ],
      "text/plain": [
       "\u001b[1m Trainable params: \u001b[0m\u001b[38;5;34m21,853\u001b[0m (85.36 KB)\n"
      ]
     },
     "metadata": {},
     "output_type": "display_data"
    },
    {
     "data": {
      "text/html": [
       "<pre style=\"white-space:pre;overflow-x:auto;line-height:normal;font-family:Menlo,'DejaVu Sans Mono',consolas,'Courier New',monospace\"><span style=\"font-weight: bold\"> Non-trainable params: </span><span style=\"color: #00af00; text-decoration-color: #00af00\">0</span> (0.00 B)\n",
       "</pre>\n"
      ],
      "text/plain": [
       "\u001b[1m Non-trainable params: \u001b[0m\u001b[38;5;34m0\u001b[0m (0.00 B)\n"
      ]
     },
     "metadata": {},
     "output_type": "display_data"
    },
    {
     "name": "stdout",
     "output_type": "stream",
     "text": [
      "None\n"
     ]
    }
   ],
   "source": [
    "# set up neural network\n",
    "model = keras.Sequential()\n",
    "\n",
    "# Adding input model --> 38 input layers\n",
    "model.add(Dense(38, input_dim = X.shape[1], activation = 'relu'))\n",
    "\n",
    "# Adding hidden layer \n",
    "model.add(keras.layers.Dense(48, activation=\"relu\"))\n",
    "model.add(keras.layers.Dense(96, activation=\"relu\"))\n",
    "model.add(keras.layers.Dense(96, activation=\"relu\"))\n",
    "model.add(keras.layers.Dense(48, activation=\"relu\"))\n",
    "\n",
    "# For classification tasks, we generally tend to add an activation function in the output (\"sigmoid\" for binary, and \"softmax\" for multi-class, etc.).\n",
    "model.add(keras.layers.Dense(5, activation=\"softmax\"))\n",
    "\n",
    "print(model.summary())"
   ]
  },
  {
   "cell_type": "code",
   "execution_count": 15,
   "id": "ef563c3f-b703-471f-9653-a76e71672522",
   "metadata": {},
   "outputs": [],
   "source": [
    "# compile the model\n",
    "\n",
    "model.compile(optimizer='adam',\n",
    "              loss=tf.keras.losses.CategoricalCrossentropy(),\n",
    "              metrics=['accuracy'])"
   ]
  },
  {
   "cell_type": "code",
   "execution_count": 16,
   "id": "b04a1656-7cbd-4546-b948-be233d875cab",
   "metadata": {},
   "outputs": [
    {
     "name": "stdout",
     "output_type": "stream",
     "text": [
      "Epoch 1/12\n",
      "\u001b[1m7382/7382\u001b[0m \u001b[32m━━━━━━━━━━━━━━━━━━━━\u001b[0m\u001b[37m\u001b[0m \u001b[1m44s\u001b[0m 5ms/step - accuracy: 0.8671 - loss: 0.4076\n",
      "Epoch 2/12\n",
      "\u001b[1m7382/7382\u001b[0m \u001b[32m━━━━━━━━━━━━━━━━━━━━\u001b[0m\u001b[37m\u001b[0m \u001b[1m29s\u001b[0m 4ms/step - accuracy: 0.8737 - loss: 0.3786\n",
      "Epoch 3/12\n",
      "\u001b[1m7382/7382\u001b[0m \u001b[32m━━━━━━━━━━━━━━━━━━━━\u001b[0m\u001b[37m\u001b[0m \u001b[1m26s\u001b[0m 3ms/step - accuracy: 0.8748 - loss: 0.3754\n",
      "Epoch 4/12\n",
      "\u001b[1m7382/7382\u001b[0m \u001b[32m━━━━━━━━━━━━━━━━━━━━\u001b[0m\u001b[37m\u001b[0m \u001b[1m26s\u001b[0m 3ms/step - accuracy: 0.8752 - loss: 0.3736\n",
      "Epoch 5/12\n",
      "\u001b[1m7382/7382\u001b[0m \u001b[32m━━━━━━━━━━━━━━━━━━━━\u001b[0m\u001b[37m\u001b[0m \u001b[1m26s\u001b[0m 4ms/step - accuracy: 0.8738 - loss: 0.3760\n",
      "Epoch 6/12\n",
      "\u001b[1m7382/7382\u001b[0m \u001b[32m━━━━━━━━━━━━━━━━━━━━\u001b[0m\u001b[37m\u001b[0m \u001b[1m25s\u001b[0m 3ms/step - accuracy: 0.8751 - loss: 0.3738\n",
      "Epoch 7/12\n",
      "\u001b[1m7382/7382\u001b[0m \u001b[32m━━━━━━━━━━━━━━━━━━━━\u001b[0m\u001b[37m\u001b[0m \u001b[1m25s\u001b[0m 3ms/step - accuracy: 0.8748 - loss: 0.3747\n",
      "Epoch 8/12\n",
      "\u001b[1m7382/7382\u001b[0m \u001b[32m━━━━━━━━━━━━━━━━━━━━\u001b[0m\u001b[37m\u001b[0m \u001b[1m22s\u001b[0m 3ms/step - accuracy: 0.8760 - loss: 0.3725\n",
      "Epoch 9/12\n",
      "\u001b[1m7382/7382\u001b[0m \u001b[32m━━━━━━━━━━━━━━━━━━━━\u001b[0m\u001b[37m\u001b[0m \u001b[1m22s\u001b[0m 3ms/step - accuracy: 0.8757 - loss: 0.3732\n",
      "Epoch 10/12\n",
      "\u001b[1m7382/7382\u001b[0m \u001b[32m━━━━━━━━━━━━━━━━━━━━\u001b[0m\u001b[37m\u001b[0m \u001b[1m22s\u001b[0m 3ms/step - accuracy: 0.8752 - loss: 0.3733\n",
      "Epoch 11/12\n",
      "\u001b[1m7382/7382\u001b[0m \u001b[32m━━━━━━━━━━━━━━━━━━━━\u001b[0m\u001b[37m\u001b[0m \u001b[1m22s\u001b[0m 3ms/step - accuracy: 0.8750 - loss: 0.3736\n",
      "Epoch 12/12\n",
      "\u001b[1m7382/7382\u001b[0m \u001b[32m━━━━━━━━━━━━━━━━━━━━\u001b[0m\u001b[37m\u001b[0m \u001b[1m22s\u001b[0m 3ms/step - accuracy: 0.8748 - loss: 0.3742\n"
     ]
    },
    {
     "data": {
      "text/plain": [
       "<keras.src.callbacks.history.History at 0x257e6422ae0>"
      ]
     },
     "execution_count": 16,
     "metadata": {},
     "output_type": "execute_result"
    }
   ],
   "source": [
    "# train the model\n",
    "model.fit(X, Y, epochs = 12, batch_size = 32)"
   ]
  },
  {
   "cell_type": "code",
   "execution_count": 17,
   "id": "7b0d507a-7230-4885-9546-e80d1a675357",
   "metadata": {},
   "outputs": [
    {
     "name": "stdout",
     "output_type": "stream",
     "text": [
      "1362/1362 - 3s - 2ms/step - accuracy: 0.9129 - loss: 0.2991\n",
      "\n",
      "Test accuracy: 0.9128878116607666\n",
      "\n",
      "Loss: 0.29908618330955505\n"
     ]
    }
   ],
   "source": [
    "#Evaluate accuracy\n",
    "test_loss, test_acc = model.evaluate(X_test,  Y_test, verbose=2)\n",
    "print('\\nTest accuracy:', test_acc)\n",
    "print('\\nLoss:', test_loss)"
   ]
  },
  {
   "cell_type": "code",
   "execution_count": 18,
   "id": "1fca141d-18c0-423f-8569-7a510f5335f0",
   "metadata": {},
   "outputs": [
    {
     "name": "stdout",
     "output_type": "stream",
     "text": [
      "\u001b[1m1362/1362\u001b[0m \u001b[32m━━━━━━━━━━━━━━━━━━━━\u001b[0m\u001b[37m\u001b[0m \u001b[1m2s\u001b[0m 2ms/step\n",
      "[1.3281980e-06 1.7664018e-01 8.1704330e-01 2.2084822e-07 6.3149636e-03]\n",
      "[7.7261814e-07 1.1532945e-01 8.8238049e-01 6.1866800e-08 2.2892077e-03]\n",
      "[2.9202913e-06 1.3594487e-01 8.5898113e-01 4.3418140e-07 5.0706044e-03]\n",
      "[6.2482189e-07 1.4207551e-01 8.5521048e-01 5.5778415e-08 2.7133273e-03]\n",
      "[1.14575778e-06 1.00173004e-01 8.97266448e-01 1.05732532e-07\n",
      " 2.55919504e-03]\n"
     ]
    }
   ],
   "source": [
    "# Make Predictions\n",
    "predictions = model.predict(X_test)\n",
    "\n",
    "# Here, the model has predicted the label for each image in the testing set. Let's take a look at some predictions\n",
    "print(predictions[0])\n",
    "print(predictions[10])\n",
    "print(predictions[100])\n",
    "print(predictions[1000])\n",
    "print(predictions[10000])"
   ]
  },
  {
   "cell_type": "code",
   "execution_count": 19,
   "id": "5b08932e-4a04-4108-aeb7-d90d1214111a",
   "metadata": {},
   "outputs": [
    {
     "name": "stdout",
     "output_type": "stream",
     "text": [
      "+--------------+-------------------+\n",
      "| True Value   | Predicted Value   |\n",
      "+==============+===================+\n",
      "| ['IC']       | ['IC']            |\n",
      "+--------------+-------------------+\n",
      "| ['IC']       | ['IC']            |\n",
      "+--------------+-------------------+\n",
      "| ['IC']       | ['IC']            |\n",
      "+--------------+-------------------+\n",
      "| ['IC']       | ['IC']            |\n",
      "+--------------+-------------------+\n",
      "| ['IC']       | ['IC']            |\n",
      "+--------------+-------------------+\n",
      "| ['IC']       | ['IC']            |\n",
      "+--------------+-------------------+\n",
      "| ['IC']       | ['IC']            |\n",
      "+--------------+-------------------+\n",
      "| ['IC']       | ['IC']            |\n",
      "+--------------+-------------------+\n",
      "| ['IC']       | ['IC']            |\n",
      "+--------------+-------------------+\n",
      "| ['IC']       | ['IC']            |\n",
      "+--------------+-------------------+\n",
      "| ['IC']       | ['IC']            |\n",
      "+--------------+-------------------+\n",
      "| ['IC']       | ['IC']            |\n",
      "+--------------+-------------------+\n",
      "| ['IC']       | ['IC']            |\n",
      "+--------------+-------------------+\n",
      "| ['IC']       | ['IC']            |\n",
      "+--------------+-------------------+\n",
      "| ['IC']       | ['IC']            |\n",
      "+--------------+-------------------+\n",
      "| ['IC']       | ['IC']            |\n",
      "+--------------+-------------------+\n",
      "| ['IC']       | ['IC']            |\n",
      "+--------------+-------------------+\n",
      "| ['IC']       | ['IC']            |\n",
      "+--------------+-------------------+\n",
      "| ['IC']       | ['IC']            |\n",
      "+--------------+-------------------+\n",
      "| ['IC']       | ['IC']            |\n",
      "+--------------+-------------------+\n",
      "| ['IC']       | ['IC']            |\n",
      "+--------------+-------------------+\n",
      "| ['IC']       | ['IC']            |\n",
      "+--------------+-------------------+\n",
      "| ['IC']       | ['IC']            |\n",
      "+--------------+-------------------+\n",
      "| ['IC']       | ['IC']            |\n",
      "+--------------+-------------------+\n",
      "| ['IC']       | ['IC']            |\n",
      "+--------------+-------------------+\n",
      "| ['IC']       | ['IC']            |\n",
      "+--------------+-------------------+\n",
      "| ['IC']       | ['IC']            |\n",
      "+--------------+-------------------+\n",
      "| ['AO']       | ['IC']            |\n",
      "+--------------+-------------------+\n",
      "| ['IC']       | ['IC']            |\n",
      "+--------------+-------------------+\n",
      "| ['IC']       | ['IC']            |\n",
      "+--------------+-------------------+\n",
      "| ['IC']       | ['IC']            |\n",
      "+--------------+-------------------+\n",
      "| ['AO']       | ['IC']            |\n",
      "+--------------+-------------------+\n",
      "| ['IC']       | ['IC']            |\n",
      "+--------------+-------------------+\n",
      "| ['IC']       | ['IC']            |\n",
      "+--------------+-------------------+\n",
      "| ['IC']       | ['IC']            |\n",
      "+--------------+-------------------+\n",
      "| ['AA']       | ['AA']            |\n",
      "+--------------+-------------------+\n",
      "| ['IC']       | ['IC']            |\n",
      "+--------------+-------------------+\n",
      "| ['IC']       | ['IC']            |\n",
      "+--------------+-------------------+\n",
      "| ['AA']       | ['AA']            |\n",
      "+--------------+-------------------+\n",
      "| ['IC']       | ['IC']            |\n",
      "+--------------+-------------------+\n",
      "| ['AO']       | ['IC']            |\n",
      "+--------------+-------------------+\n",
      "| ['IC']       | ['IC']            |\n",
      "+--------------+-------------------+\n",
      "| ['IC']       | ['IC']            |\n",
      "+--------------+-------------------+\n",
      "| ['IC']       | ['IC']            |\n",
      "+--------------+-------------------+\n",
      "| ['IC']       | ['IC']            |\n",
      "+--------------+-------------------+\n",
      "| ['IC']       | ['IC']            |\n",
      "+--------------+-------------------+\n",
      "| ['IC']       | ['IC']            |\n",
      "+--------------+-------------------+\n",
      "| ['IC']       | ['IC']            |\n",
      "+--------------+-------------------+\n",
      "| ['IC']       | ['IC']            |\n",
      "+--------------+-------------------+\n",
      "| ['IC']       | ['IC']            |\n",
      "+--------------+-------------------+\n"
     ]
    }
   ],
   "source": [
    "# getting y_test values\n",
    "y_tested = encoder.inverse_transform(Y_test)\n",
    "\n",
    "# getting the value of the predictions\n",
    "y_predicted = encoder.inverse_transform(predictions)\n",
    "\n",
    "# printing the first 30 values of the test and predicted values \n",
    "data = []\n",
    "for i in range(50):\n",
    "    data.append([y_tested[i], y_predicted[i]])\n",
    "\n",
    "headers = [\"True Value\", \"Predicted Value\"]\n",
    "\n",
    "print(tabulate(data, headers=headers, tablefmt=\"grid\"))"
   ]
  },
  {
   "cell_type": "code",
   "execution_count": 20,
   "id": "8472b60e-cca6-44fb-8656-e0f87ec4255f",
   "metadata": {},
   "outputs": [
    {
     "data": {
      "image/png": "[encoded data removed]",
      "text/plain": [
       "<Figure size 800x600 with 2 Axes>"
      ]
     },
     "metadata": {},
     "output_type": "display_data"
    }
   ],
   "source": [
    "# Confusion Matrix\n",
    "# Class labels\n",
    "class_labels=['AA', 'AO', 'IC', 'JA', 'JO']\n",
    "\n",
    "plot_prediction_vs_test_categorical(y_tested, y_predicted, class_labels)"
   ]
  }
 ],
 "metadata": {
  "kernelspec": {
   "display_name": "cs3500",
   "language": "python",
   "name": "cs3500"
  },
  "language_info": {
   "codemirror_mode": {
    "name": "ipython",
    "version": 3
   },
   "file_extension": ".py",
   "mimetype": "text/x-python",
   "name": "python",
   "nbconvert_exporter": "python",
   "pygments_lexer": "ipython3",
   "version": "3.12.3"
  }
 },
 "nbformat": 4,
 "nbformat_minor": 5
}
