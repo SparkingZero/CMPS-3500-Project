{
 "cells": [
  {
   "cell_type": "code",
   "execution_count": 1,
   "id": "9ad00ede-a95f-41cf-a186-260686b2ce85",
   "metadata": {},
   "outputs": [],
   "source": [
    "# Here several helpful packages to load\n",
    "import numpy as np # linear algebra\n",
    "import pandas as pd # data processing, CSV file I/O (e.g. pd.read_csv)\n",
    "import os\n",
    "\n",
    "#importing libraries\n",
    "import numpy as np\n",
    "import regex\n",
    "import matplotlib.pyplot as plt\n",
    "import seaborn as sns\n",
    "from datetime import datetime"
   ]
  },
  {
   "cell_type": "code",
   "execution_count": 2,
   "id": "4f8eb36d-6933-4649-a8ee-94fd1c8e5aa3",
   "metadata": {},
   "outputs": [
    {
     "name": "stdout",
     "output_type": "stream",
     "text": [
      "<class 'pandas.core.frame.DataFrame'>\n",
      "RangeIndex: 78017 entries, 0 to 78016\n",
      "Data columns (total 21 columns):\n",
      " #   Column          Non-Null Count  Dtype  \n",
      "---  ------          --------------  -----  \n",
      " 0   Unnamed: 0      78017 non-null  int64  \n",
      " 1   DR_NO           78017 non-null  int64  \n",
      " 2   Date Rptd       78017 non-null  object \n",
      " 3   DATE OCC        78017 non-null  object \n",
      " 4   TIME OCC        78017 non-null  int64  \n",
      " 5   AREA            78017 non-null  int64  \n",
      " 6   AREA NAME       78017 non-null  object \n",
      " 7   Rpt Dist No     78017 non-null  int64  \n",
      " 8   Part 1-2        78017 non-null  int64  \n",
      " 9   Crm Cd          78017 non-null  int64  \n",
      " 10  Crm Cd Desc     78017 non-null  object \n",
      " 11  Mocodes         59662 non-null  object \n",
      " 12  Vict Age        78017 non-null  int64  \n",
      " 13  Vict Sex        60161 non-null  object \n",
      " 14  Vict Descent    60157 non-null  object \n",
      " 15  Premis Cd       78014 non-null  float64\n",
      " 16  Premis Desc     77987 non-null  object \n",
      " 17  Weapon Used Cd  14517 non-null  float64\n",
      " 18  Weapon Desc     14517 non-null  object \n",
      " 19  Status          78017 non-null  object \n",
      " 20  Status Desc     78017 non-null  object \n",
      "dtypes: float64(2), int64(8), object(11)\n",
      "memory usage: 12.5+ MB\n"
     ]
    }
   ],
   "source": [
    "#reading the CSV file into dataframe df\n",
    "# Data should be located in the same folder as the notebook for this to work\n",
    "df = pd.read_csv('LA_Crime_Data_2023_to_Present_test1.csv') \n",
    "\n",
    "# print basic info about the data frame\n",
    "df.info()"
   ]
  },
  {
   "cell_type": "code",
   "execution_count": 3,
   "id": "e2272062-90ab-480a-9686-ef391d4af2d3",
   "metadata": {},
   "outputs": [
    {
     "name": "stdout",
     "output_type": "stream",
     "text": [
      "<class 'pandas.core.frame.DataFrame'>\n",
      "Index: 78017 entries, 240812002 to 240122274\n",
      "Data columns (total 19 columns):\n",
      " #   Column          Non-Null Count  Dtype  \n",
      "---  ------          --------------  -----  \n",
      " 0   Date Rptd       78017 non-null  object \n",
      " 1   DATE OCC        78017 non-null  object \n",
      " 2   TIME OCC        78017 non-null  int64  \n",
      " 3   AREA            78017 non-null  int64  \n",
      " 4   AREA NAME       78017 non-null  object \n",
      " 5   Rpt Dist No     78017 non-null  int64  \n",
      " 6   Part 1-2        78017 non-null  int64  \n",
      " 7   Crm Cd          78017 non-null  int64  \n",
      " 8   Crm Cd Desc     78017 non-null  object \n",
      " 9   Mocodes         59662 non-null  object \n",
      " 10  Vict Age        78017 non-null  int64  \n",
      " 11  Vict Sex        60161 non-null  object \n",
      " 12  Vict Descent    60157 non-null  object \n",
      " 13  Premis Cd       78014 non-null  float64\n",
      " 14  Premis Desc     77987 non-null  object \n",
      " 15  Weapon Used Cd  14517 non-null  float64\n",
      " 16  Weapon Desc     14517 non-null  object \n",
      " 17  Status          78017 non-null  object \n",
      " 18  Status Desc     78017 non-null  object \n",
      "dtypes: float64(2), int64(6), object(11)\n",
      "memory usage: 11.9+ MB\n"
     ]
    }
   ],
   "source": [
    "# Set column 'DR_NO' Index and remove unamed\n",
    "df = df.set_index('DR_NO')\n",
    "df = df.rename_axis('DR_NO_INDEX')\n",
    "df = df.loc[:, ~df.columns.str.contains('^Unnamed')]\n",
    "df.info()"
   ]
  },
  {
   "cell_type": "code",
   "execution_count": 4,
   "id": "d1d03bc7-ece0-4b0d-8e4d-5984e0682433",
   "metadata": {},
   "outputs": [
    {
     "name": "stdout",
     "output_type": "stream",
     "text": [
      "<class 'pandas.core.frame.DataFrame'>\n",
      "Index: 78017 entries, 240812002 to 240122274\n",
      "Data columns (total 19 columns):\n",
      " #   Column          Non-Null Count  Dtype         \n",
      "---  ------          --------------  -----         \n",
      " 0   Date Rptd       78017 non-null  datetime64[ns]\n",
      " 1   DATE OCC        78017 non-null  datetime64[ns]\n",
      " 2   TIME OCC        78017 non-null  int64         \n",
      " 3   AREA            78017 non-null  int64         \n",
      " 4   AREA NAME       78017 non-null  string        \n",
      " 5   Rpt Dist No     78017 non-null  int64         \n",
      " 6   Part 1-2        78017 non-null  int64         \n",
      " 7   Crm Cd          78017 non-null  int64         \n",
      " 8   Crm Cd Desc     78017 non-null  string        \n",
      " 9   Mocodes         59662 non-null  string        \n",
      " 10  Vict Age        78017 non-null  int64         \n",
      " 11  Vict Sex        60161 non-null  string        \n",
      " 12  Vict Descent    60157 non-null  string        \n",
      " 13  Premis Cd       78014 non-null  float64       \n",
      " 14  Premis Desc     77987 non-null  string        \n",
      " 15  Weapon Used Cd  14517 non-null  float64       \n",
      " 16  Weapon Desc     14517 non-null  string        \n",
      " 17  Status          78017 non-null  string        \n",
      " 18  Status Desc     78017 non-null  string        \n",
      "dtypes: datetime64[ns](2), float64(2), int64(6), string(9)\n",
      "memory usage: 11.9 MB\n"
     ]
    }
   ],
   "source": [
    "# Convert the columns to a suitable data type\n",
    "df['Date Rptd'] = df['Date Rptd'].apply(lambda x: datetime.strptime(x, '%m/%d/%Y %I:%M:%S %p'))\n",
    "df['DATE OCC'] = df['DATE OCC'].apply(lambda x: datetime.strptime(x, '%Y-%m-%d'))\n",
    "df['AREA NAME'] = df['AREA NAME'].astype('string')\n",
    "df['Crm Cd Desc'] = df['Crm Cd Desc'].astype('string')\n",
    "df['Mocodes'] = df['Mocodes'].astype('string')\n",
    "df['Vict Sex'] = df['Vict Sex'].astype('string')\n",
    "df['Vict Descent'] = df['Vict Descent'].astype('string')\n",
    "df['Premis Desc'] = df['Premis Desc'].astype('string')\n",
    "df['Weapon Desc'] = df['Weapon Desc'].astype('string')\n",
    "df['Status'] = df['Status'].astype('string')\n",
    "df['Status Desc'] = df['Status Desc'].astype('string')\n",
    "\n",
    "# Checking dataframe\n",
    "df.info()"
   ]
  },
  {
   "cell_type": "code",
   "execution_count": 5,
   "id": "22f7b39b-ac18-49a1-8c87-f4539bea689a",
   "metadata": {},
   "outputs": [
    {
     "name": "stdout",
     "output_type": "stream",
     "text": [
      "<class 'pandas.core.frame.DataFrame'>\n",
      "Index: 78017 entries, 240812002 to 240122274\n",
      "Data columns (total 20 columns):\n",
      " #   Column          Non-Null Count  Dtype         \n",
      "---  ------          --------------  -----         \n",
      " 0   Date Rptd       78017 non-null  datetime64[ns]\n",
      " 1   DATE OCC        78017 non-null  datetime64[ns]\n",
      " 2   TIME OCC        78017 non-null  int64         \n",
      " 3   AREA            78017 non-null  int64         \n",
      " 4   AREA NAME       78017 non-null  string        \n",
      " 5   Rpt Dist No     78017 non-null  int64         \n",
      " 6   Part 1-2        78017 non-null  int64         \n",
      " 7   Crm Cd          78017 non-null  int64         \n",
      " 8   Crm Cd Desc     78017 non-null  string        \n",
      " 9   Mocodes         59662 non-null  string        \n",
      " 10  Vict Age        78017 non-null  int64         \n",
      " 11  Vict Sex        60161 non-null  string        \n",
      " 12  Vict Descent    60157 non-null  string        \n",
      " 13  Premis Cd       78014 non-null  float64       \n",
      " 14  Premis Desc     77987 non-null  string        \n",
      " 15  Weapon Used Cd  14517 non-null  float64       \n",
      " 16  Weapon Desc     14517 non-null  string        \n",
      " 17  Status          78017 non-null  string        \n",
      " 18  Status Desc     78017 non-null  string        \n",
      " 19  Target          78017 non-null  object        \n",
      "dtypes: datetime64[ns](2), float64(2), int64(6), object(1), string(9)\n",
      "memory usage: 12.5+ MB\n"
     ]
    }
   ],
   "source": [
    "# Map Target Column\n",
    "\n",
    "# Mapping dictionary\n",
    "mapping = {\n",
    "            'IC': 'No Arrest'\n",
    "            ,'AA': 'Arrest'\n",
    "            ,'AO': 'No Arrest'\n",
    "            ,'JO': 'No Arrest'\n",
    "            ,'JA': 'Arrest'\n",
    "            ,'CC': 'No Arrest'\n",
    "}\n",
    "# Create target variable based in the status variable \n",
    "df['Target'] = df['Status'].map(mapping)\n",
    "\n",
    "# Checking dataframe\n",
    "df.info()"
   ]
  },
  {
   "cell_type": "code",
   "execution_count": 6,
   "id": "6714085c-b46a-44b1-9737-6feb1114b291",
   "metadata": {},
   "outputs": [],
   "source": [
    "# Drop the columns we dont want \n",
    "df = df.loc[:, ~df.columns.str.contains('AREA NAME')]\n",
    "df = df.loc[:, ~df.columns.str.contains('Part 1-2')]\n",
    "df = df.loc[:, ~df.columns.str.contains('Crm Cd Desc')]\n",
    "df = df.loc[:, ~df.columns.str.contains('Premis Desc')]\n",
    "df = df.loc[:, ~df.columns.str.contains('Weapon Desc')]\n",
    "df = df.loc[:, ~df.columns.str.contains('Status Desc')]\n",
    "df = df.loc[:, ~df.columns.str.contains('Date Rptd')]\n",
    "\n",
    "# for now will remove mocodes\n",
    "df = df.loc[:, ~df.columns.str.contains('Mocodes')]"
   ]
  },
  {
   "cell_type": "code",
   "execution_count": 7,
   "id": "1cfb59ff-5f5d-4145-9399-b5248c37dad0",
   "metadata": {},
   "outputs": [],
   "source": [
    "# convert Date OCC to be useable data\n",
    "# convert date to a value of 1-12 represent Jan - Dec\n",
    "\n",
    "df['MONTH OCC'] = df['DATE OCC'].dt.month\n",
    "\n",
    "df = df.loc[:, ~df.columns.str.contains('DATE OCC')]\n"
   ]
  },
  {
   "cell_type": "code",
   "execution_count": 8,
   "id": "329b6e13-46f1-465a-8d87-77162d542cc7",
   "metadata": {},
   "outputs": [],
   "source": [
    "# convert Time OCC to be useable data\n",
    "# 0 - 6 (EM - Early Morning)\n",
    "# 6 - 12 (M - Morning)\n",
    "# 12 - 18 (AN - Afternoon)\n",
    "# 18 - 24 (N - Night)\n",
    "\n",
    "# Change data type\n",
    "df['TIME OCC'] = df['TIME OCC'].astype('string')\n",
    "\n",
    "# Pad the 'TIME OCC' column values with leading zeros to ensure a 4-digit format\n",
    "df['TIME OCC'] = df['TIME OCC'].str.zfill(4)\n",
    "\n",
    "# set up a temp column to have correct format then extract only hour\n",
    "df['TEMP'] = pd.to_datetime(df['TIME OCC'], format='%H%M')\n",
    "df['HOUR'] = df['TEMP'].dt.hour\n",
    "\n",
    "# Mapping function\n",
    "def MappingTime(hour):\n",
    "    if 0 <= hour < 6:\n",
    "        return 'EM'  \n",
    "    elif 6 <= hour < 12:\n",
    "        return 'M'   \n",
    "    elif 12 <= hour < 18:\n",
    "        return 'AN'  \n",
    "    elif 18 <= hour < 24:\n",
    "        return 'N'   \n",
    "\n",
    "df['TIME PERIOD OCC'] = df['HOUR'].apply(MappingTime)\n",
    "\n",
    "# now clean up the extra time occ stuff\n",
    "df = df.loc[:, ~df.columns.str.contains('TIME OCC')]\n",
    "df = df.loc[:, ~df.columns.str.contains('TEMP')]\n",
    "df = df.loc[:, ~df.columns.str.contains('HOUR')]\n",
    "\n",
    "df['TIME PERIOD OCC'] = df['TIME PERIOD OCC'].astype('string')\n"
   ]
  },
  {
   "cell_type": "code",
   "execution_count": 9,
   "id": "4abd26af-d575-440e-b2ce-4e72d4bfc10e",
   "metadata": {},
   "outputs": [
    {
     "data": {
      "text/plain": [
       "5899"
      ]
     },
     "execution_count": 9,
     "metadata": {},
     "output_type": "execute_result"
    }
   ],
   "source": [
    "# Get total count of duplicated rows\n",
    "df.duplicated().sum()"
   ]
  },
  {
   "cell_type": "code",
   "execution_count": 10,
   "id": "a270bc4a-3c01-4635-89d1-5652821f1401",
   "metadata": {},
   "outputs": [],
   "source": [
    "# Find all duplicates\n",
    "duplicates = df[df.duplicated(keep=False)]"
   ]
  },
  {
   "cell_type": "code",
   "execution_count": 11,
   "id": "e8e89ce5-bc04-4b29-9ba0-2de987f54274",
   "metadata": {},
   "outputs": [
    {
     "data": {
      "text/plain": [
       "0"
      ]
     },
     "execution_count": 11,
     "metadata": {},
     "output_type": "execute_result"
    }
   ],
   "source": [
    "# Remove duplicate rows\n",
    "df = df.drop_duplicates()\n",
    "\n",
    "# Check for duplicates\n",
    "df.duplicated().sum()"
   ]
  },
  {
   "cell_type": "code",
   "execution_count": 12,
   "id": "b7fef9f6-702d-4be1-9971-0615106eb879",
   "metadata": {},
   "outputs": [
    {
     "name": "stdout",
     "output_type": "stream",
     "text": [
      "Column 'AREA': 0.0 % of null values\n",
      "Column 'Rpt Dist No': 0.0 % of null values\n",
      "Column 'Crm Cd': 0.0 % of null values\n",
      "Column 'Vict Age': 0.0 % of null values\n",
      "Column 'Vict Sex': 21.7 % of null values\n",
      "Column 'Vict Descent': 21.7 % of null values\n",
      "Column 'Premis Cd': 0.0 % of null values\n",
      "Column 'Weapon Used Cd': 80.0 % of null values\n",
      "Column 'Status': 0.0 % of null values\n",
      "Column 'Target': 0.0 % of null values\n",
      "Column 'MONTH OCC': 0.0 % of null values\n",
      "Column 'TIME PERIOD OCC': 0.0 % of null values\n"
     ]
    }
   ],
   "source": [
    "# get percentage of null values\n",
    "total_count = len(df)\n",
    "\n",
    "# loop each column\n",
    "for column in df.columns:\n",
    "    null_count = df[column].isnull().sum()\n",
    "    null_percentage = round((null_count / total_count) * 100,1)\n",
    "    print(f\"Column '{column}': {null_percentage} % of null values\")"
   ]
  },
  {
   "cell_type": "code",
   "execution_count": 13,
   "id": "5ad104a2-7559-4aa6-9e69-8d9f80c35274",
   "metadata": {},
   "outputs": [],
   "source": [
    "#Fill missing values (NaN) in 'Weapon Used Cd' column with 0\n",
    "df.loc[df['Weapon Used Cd'].isna(), 'Weapon Used Cd'] = 0"
   ]
  },
  {
   "cell_type": "code",
   "execution_count": 14,
   "id": "192c8815-e003-473f-848c-e0574e71e576",
   "metadata": {},
   "outputs": [
    {
     "data": {
      "text/plain": [
       "DR_NO_INDEX\n",
       "240909349    30\n",
       "240707631    34\n",
       "242106162    35\n",
       "240906594    39\n",
       "240913584    42\n",
       "241008074    40\n",
       "240110376    31\n",
       "240904302    40\n",
       "242007587    27\n",
       "240705503    23\n",
       "Name: Vict Age, dtype: int64"
      ]
     },
     "execution_count": 14,
     "metadata": {},
     "output_type": "execute_result"
    }
   ],
   "source": [
    "# Filter the DataFrame 'df' to exclude rows where 'Vict Age' is either 0 or NaN\n",
    "df = df[(df['Vict Age'] != 0)& (df['Vict Age'].notna())]\n",
    "df.loc[:,'Vict Age'].head(10)"
   ]
  },
  {
   "cell_type": "code",
   "execution_count": 15,
   "id": "6934a9ad-c5c2-482b-9af2-2c128231825c",
   "metadata": {},
   "outputs": [],
   "source": [
    "# Filter the DataFrame 'df' to exclude rows where 'Vict Sex' is 'X' (Unknown), 'H' (invalid), or NaN\n",
    "df = df[(df['Vict Sex'] != 'X')& (df['Vict Sex'] != 'H')&(df['Vict Sex'].notna())]"
   ]
  },
  {
   "cell_type": "code",
   "execution_count": 16,
   "id": "d8fed86e-61cd-4ea3-a14e-60238d2b39f8",
   "metadata": {},
   "outputs": [
    {
     "data": {
      "text/plain": [
       "DR_NO_INDEX\n",
       "240909349    H\n",
       "240707631    B\n",
       "242106162    W\n",
       "240906594    O\n",
       "240913584    W\n",
       "241008074    O\n",
       "240110376    V\n",
       "240904302    H\n",
       "242007587    H\n",
       "240315313    H\n",
       "Name: Vict Descent, dtype: string"
      ]
     },
     "execution_count": 16,
     "metadata": {},
     "output_type": "execute_result"
    }
   ],
   "source": [
    "# Filter the DataFrame 'df' to exclude rows where 'Vict Descent' is '-' or missing (NaN)\n",
    "df = df[(df['Vict Descent'] != '-') & (df['Vict Descent'].notna())]\n",
    "df.loc[: ,'Vict Descent'].head(10)"
   ]
  },
  {
   "cell_type": "code",
   "execution_count": 17,
   "id": "6cfd8b40-f9ea-4b2f-a70f-8b8952fdecbc",
   "metadata": {},
   "outputs": [],
   "source": [
    "# Drop rows with missing values (NaN) from the DataFrame 'df'\n",
    "df = df.dropna()"
   ]
  },
  {
   "cell_type": "code",
   "execution_count": 18,
   "id": "3cb1db19-26b9-42af-8c4f-8bb0de969752",
   "metadata": {},
   "outputs": [],
   "source": [
    "# get rid of outliers for victim\n",
    "# went with min of 5 years and max of 90\n",
    "\n",
    "for age in df['Vict Age']:\n",
    "    if age <= 0:\n",
    "        print(age)\n",
    "\n",
    "\n",
    "df = df[df['Vict Age'] > 5]\n",
    "df = df[df['Vict Age'] < 90]"
   ]
  },
  {
   "cell_type": "code",
   "execution_count": 19,
   "id": "d47f0911-5418-4921-bb17-3ab404374ece",
   "metadata": {},
   "outputs": [],
   "source": [
    "# filter crime code outliers\n",
    "# there are some crime codes that only has like 3 rows \n",
    "crm_count = df['Crm Cd'].value_counts()\n",
    "\n",
    "bad_crm = crm_count[crm_count >= 100].index\n",
    "\n",
    "# get rid of any crm cd that has a total count of 100 or less\n",
    "df = df[df['Crm Cd'].isin(bad_crm)]"
   ]
  },
  {
   "cell_type": "code",
   "execution_count": 20,
   "id": "d9289225-0b06-4ff5-948d-44fd00c10eda",
   "metadata": {},
   "outputs": [],
   "source": [
    "# drop where status == CC \n",
    "# there are only 2 CC in the entire training file\n",
    "df = df[df['Status'] != 'CC']"
   ]
  },
  {
   "cell_type": "code",
   "execution_count": 21,
   "id": "2161e526-ee8a-470c-a321-04240e7c92b7",
   "metadata": {},
   "outputs": [],
   "source": [
    "df.to_csv('clean_testing_andy.csv', index=True)"
   ]
  }
 ],
 "metadata": {
  "kernelspec": {
   "display_name": "cs3500",
   "language": "python",
   "name": "cs3500"
  },
  "language_info": {
   "codemirror_mode": {
    "name": "ipython",
    "version": 3
   },
   "file_extension": ".py",
   "mimetype": "text/x-python",
   "name": "python",
   "nbconvert_exporter": "python",
   "pygments_lexer": "ipython3",
   "version": "3.12.3"
  }
 },
 "nbformat": 4,
 "nbformat_minor": 5
}
